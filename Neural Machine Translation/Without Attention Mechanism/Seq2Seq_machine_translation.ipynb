{
 "cells": [
  {
   "cell_type": "code",
   "execution_count": 1,
   "metadata": {},
   "outputs": [
    {
     "name": "stdout",
     "output_type": "stream",
     "text": [
      "Requirement already satisfied: jupyterthemes in /home/pranjaldub1999/anaconda3/lib/python3.7/site-packages (0.20.0)\n",
      "Requirement already satisfied: jupyter-core in /home/pranjaldub1999/anaconda3/lib/python3.7/site-packages (from jupyterthemes) (4.6.3)\n",
      "Requirement already satisfied: notebook>=5.6.0 in /home/pranjaldub1999/anaconda3/lib/python3.7/site-packages (from jupyterthemes) (6.0.3)\n",
      "Requirement already satisfied: ipython>=5.4.1 in /home/pranjaldub1999/anaconda3/lib/python3.7/site-packages (from jupyterthemes) (7.13.0)\n",
      "Requirement already satisfied: matplotlib>=1.4.3 in /home/pranjaldub1999/anaconda3/lib/python3.7/site-packages (from jupyterthemes) (3.1.3)\n",
      "Requirement already satisfied: lesscpy>=0.11.2 in /home/pranjaldub1999/anaconda3/lib/python3.7/site-packages (from jupyterthemes) (0.14.0)\n",
      "Requirement already satisfied: traitlets in /home/pranjaldub1999/anaconda3/lib/python3.7/site-packages (from jupyter-core->jupyterthemes) (4.3.3)\n",
      "Requirement already satisfied: tornado>=5.0 in /home/pranjaldub1999/anaconda3/lib/python3.7/site-packages (from notebook>=5.6.0->jupyterthemes) (6.0.4)\n",
      "Requirement already satisfied: ipython-genutils in /home/pranjaldub1999/anaconda3/lib/python3.7/site-packages (from notebook>=5.6.0->jupyterthemes) (0.2.0)\n",
      "Requirement already satisfied: jupyter-client>=5.3.4 in /home/pranjaldub1999/anaconda3/lib/python3.7/site-packages (from notebook>=5.6.0->jupyterthemes) (6.1.2)\n",
      "Requirement already satisfied: terminado>=0.8.1 in /home/pranjaldub1999/anaconda3/lib/python3.7/site-packages (from notebook>=5.6.0->jupyterthemes) (0.8.3)\n",
      "Requirement already satisfied: pyzmq>=17 in /home/pranjaldub1999/anaconda3/lib/python3.7/site-packages (from notebook>=5.6.0->jupyterthemes) (18.1.1)\n",
      "Requirement already satisfied: prometheus-client in /home/pranjaldub1999/anaconda3/lib/python3.7/site-packages (from notebook>=5.6.0->jupyterthemes) (0.7.1)\n",
      "Requirement already satisfied: nbformat in /home/pranjaldub1999/anaconda3/lib/python3.7/site-packages (from notebook>=5.6.0->jupyterthemes) (5.0.4)\n",
      "Requirement already satisfied: Send2Trash in /home/pranjaldub1999/anaconda3/lib/python3.7/site-packages (from notebook>=5.6.0->jupyterthemes) (1.5.0)\n",
      "Requirement already satisfied: jinja2 in /home/pranjaldub1999/anaconda3/lib/python3.7/site-packages (from notebook>=5.6.0->jupyterthemes) (2.11.1)\n",
      "Requirement already satisfied: ipykernel in /home/pranjaldub1999/anaconda3/lib/python3.7/site-packages (from notebook>=5.6.0->jupyterthemes) (5.1.4)\n",
      "Requirement already satisfied: nbconvert in /home/pranjaldub1999/anaconda3/lib/python3.7/site-packages (from notebook>=5.6.0->jupyterthemes) (5.6.1)\n",
      "Requirement already satisfied: backcall in /home/pranjaldub1999/anaconda3/lib/python3.7/site-packages (from ipython>=5.4.1->jupyterthemes) (0.1.0)\n",
      "Requirement already satisfied: decorator in /home/pranjaldub1999/anaconda3/lib/python3.7/site-packages (from ipython>=5.4.1->jupyterthemes) (4.4.2)\n",
      "Requirement already satisfied: setuptools>=18.5 in /home/pranjaldub1999/anaconda3/lib/python3.7/site-packages (from ipython>=5.4.1->jupyterthemes) (46.1.3.post20200330)\n",
      "Requirement already satisfied: prompt-toolkit!=3.0.0,!=3.0.1,<3.1.0,>=2.0.0 in /home/pranjaldub1999/anaconda3/lib/python3.7/site-packages (from ipython>=5.4.1->jupyterthemes) (3.0.4)\n",
      "Requirement already satisfied: pexpect; sys_platform != \"win32\" in /home/pranjaldub1999/anaconda3/lib/python3.7/site-packages (from ipython>=5.4.1->jupyterthemes) (4.8.0)\n",
      "Requirement already satisfied: jedi>=0.10 in /home/pranjaldub1999/anaconda3/lib/python3.7/site-packages (from ipython>=5.4.1->jupyterthemes) (0.15.2)\n",
      "Requirement already satisfied: pygments in /home/pranjaldub1999/anaconda3/lib/python3.7/site-packages (from ipython>=5.4.1->jupyterthemes) (2.6.1)\n",
      "Requirement already satisfied: pickleshare in /home/pranjaldub1999/anaconda3/lib/python3.7/site-packages (from ipython>=5.4.1->jupyterthemes) (0.7.5)\n",
      "Requirement already satisfied: cycler>=0.10 in /home/pranjaldub1999/anaconda3/lib/python3.7/site-packages (from matplotlib>=1.4.3->jupyterthemes) (0.10.0)\n",
      "Requirement already satisfied: kiwisolver>=1.0.1 in /home/pranjaldub1999/anaconda3/lib/python3.7/site-packages (from matplotlib>=1.4.3->jupyterthemes) (1.1.0)\n",
      "Requirement already satisfied: numpy>=1.11 in /home/pranjaldub1999/anaconda3/lib/python3.7/site-packages (from matplotlib>=1.4.3->jupyterthemes) (1.18.1)\n",
      "Requirement already satisfied: python-dateutil>=2.1 in /home/pranjaldub1999/anaconda3/lib/python3.7/site-packages (from matplotlib>=1.4.3->jupyterthemes) (2.8.1)\n",
      "Requirement already satisfied: pyparsing!=2.0.4,!=2.1.2,!=2.1.6,>=2.0.1 in /home/pranjaldub1999/anaconda3/lib/python3.7/site-packages (from matplotlib>=1.4.3->jupyterthemes) (2.4.6)\n",
      "Requirement already satisfied: ply in /home/pranjaldub1999/anaconda3/lib/python3.7/site-packages (from lesscpy>=0.11.2->jupyterthemes) (3.11)\n",
      "Requirement already satisfied: six in /home/pranjaldub1999/anaconda3/lib/python3.7/site-packages (from lesscpy>=0.11.2->jupyterthemes) (1.14.0)\n",
      "Requirement already satisfied: jsonschema!=2.5.0,>=2.4 in /home/pranjaldub1999/anaconda3/lib/python3.7/site-packages (from nbformat->notebook>=5.6.0->jupyterthemes) (3.2.0)\n",
      "Requirement already satisfied: MarkupSafe>=0.23 in /home/pranjaldub1999/anaconda3/lib/python3.7/site-packages (from jinja2->notebook>=5.6.0->jupyterthemes) (1.1.1)\n",
      "Requirement already satisfied: mistune<2,>=0.8.1 in /home/pranjaldub1999/anaconda3/lib/python3.7/site-packages (from nbconvert->notebook>=5.6.0->jupyterthemes) (0.8.4)\n",
      "Requirement already satisfied: testpath in /home/pranjaldub1999/anaconda3/lib/python3.7/site-packages (from nbconvert->notebook>=5.6.0->jupyterthemes) (0.4.4)\n",
      "Requirement already satisfied: entrypoints>=0.2.2 in /home/pranjaldub1999/anaconda3/lib/python3.7/site-packages (from nbconvert->notebook>=5.6.0->jupyterthemes) (0.3)\n",
      "Requirement already satisfied: pandocfilters>=1.4.1 in /home/pranjaldub1999/anaconda3/lib/python3.7/site-packages (from nbconvert->notebook>=5.6.0->jupyterthemes) (1.4.2)\n",
      "Requirement already satisfied: defusedxml in /home/pranjaldub1999/anaconda3/lib/python3.7/site-packages (from nbconvert->notebook>=5.6.0->jupyterthemes) (0.6.0)\n",
      "Requirement already satisfied: bleach in /home/pranjaldub1999/anaconda3/lib/python3.7/site-packages (from nbconvert->notebook>=5.6.0->jupyterthemes) (3.1.0)\n",
      "Requirement already satisfied: wcwidth in /home/pranjaldub1999/anaconda3/lib/python3.7/site-packages (from prompt-toolkit!=3.0.0,!=3.0.1,<3.1.0,>=2.0.0->ipython>=5.4.1->jupyterthemes) (0.1.9)\n",
      "Requirement already satisfied: ptyprocess>=0.5 in /home/pranjaldub1999/anaconda3/lib/python3.7/site-packages (from pexpect; sys_platform != \"win32\"->ipython>=5.4.1->jupyterthemes) (0.6.0)\n",
      "Requirement already satisfied: parso>=0.5.2 in /home/pranjaldub1999/anaconda3/lib/python3.7/site-packages (from jedi>=0.10->ipython>=5.4.1->jupyterthemes) (0.5.2)\n",
      "Requirement already satisfied: attrs>=17.4.0 in /home/pranjaldub1999/anaconda3/lib/python3.7/site-packages (from jsonschema!=2.5.0,>=2.4->nbformat->notebook>=5.6.0->jupyterthemes) (19.3.0)\n",
      "Requirement already satisfied: pyrsistent>=0.14.0 in /home/pranjaldub1999/anaconda3/lib/python3.7/site-packages (from jsonschema!=2.5.0,>=2.4->nbformat->notebook>=5.6.0->jupyterthemes) (0.16.0)\n",
      "Requirement already satisfied: importlib-metadata; python_version < \"3.8\" in /home/pranjaldub1999/anaconda3/lib/python3.7/site-packages (from jsonschema!=2.5.0,>=2.4->nbformat->notebook>=5.6.0->jupyterthemes) (1.5.0)\n",
      "Requirement already satisfied: webencodings in /home/pranjaldub1999/anaconda3/lib/python3.7/site-packages (from bleach->nbconvert->notebook>=5.6.0->jupyterthemes) (0.5.1)\n",
      "Requirement already satisfied: zipp>=0.5 in /home/pranjaldub1999/anaconda3/lib/python3.7/site-packages (from importlib-metadata; python_version < \"3.8\"->jsonschema!=2.5.0,>=2.4->nbformat->notebook>=5.6.0->jupyterthemes) (2.2.0)\n"
     ]
    }
   ],
   "source": [
    "!pip install jupyterthemes\n",
    "!jt -t chesterish"
   ]
  },
  {
   "cell_type": "code",
   "execution_count": null,
   "metadata": {},
   "outputs": [],
   "source": []
  },
  {
   "cell_type": "code",
   "execution_count": 2,
   "metadata": {},
   "outputs": [],
   "source": [
    "from __future__ import print_function,division\n",
    "from builtins import input,range"
   ]
  },
  {
   "cell_type": "code",
   "execution_count": 3,
   "metadata": {},
   "outputs": [
    {
     "name": "stderr",
     "output_type": "stream",
     "text": [
      "Using TensorFlow backend.\n",
      "/home/pranjaldub1999/anaconda3/lib/python3.7/site-packages/tensorflow/python/framework/dtypes.py:516: FutureWarning: Passing (type, 1) or '1type' as a synonym of type is deprecated; in a future version of numpy, it will be understood as (type, (1,)) / '(1,)type'.\n",
      "  _np_qint8 = np.dtype([(\"qint8\", np.int8, 1)])\n",
      "/home/pranjaldub1999/anaconda3/lib/python3.7/site-packages/tensorflow/python/framework/dtypes.py:517: FutureWarning: Passing (type, 1) or '1type' as a synonym of type is deprecated; in a future version of numpy, it will be understood as (type, (1,)) / '(1,)type'.\n",
      "  _np_quint8 = np.dtype([(\"quint8\", np.uint8, 1)])\n",
      "/home/pranjaldub1999/anaconda3/lib/python3.7/site-packages/tensorflow/python/framework/dtypes.py:518: FutureWarning: Passing (type, 1) or '1type' as a synonym of type is deprecated; in a future version of numpy, it will be understood as (type, (1,)) / '(1,)type'.\n",
      "  _np_qint16 = np.dtype([(\"qint16\", np.int16, 1)])\n",
      "/home/pranjaldub1999/anaconda3/lib/python3.7/site-packages/tensorflow/python/framework/dtypes.py:519: FutureWarning: Passing (type, 1) or '1type' as a synonym of type is deprecated; in a future version of numpy, it will be understood as (type, (1,)) / '(1,)type'.\n",
      "  _np_quint16 = np.dtype([(\"quint16\", np.uint16, 1)])\n",
      "/home/pranjaldub1999/anaconda3/lib/python3.7/site-packages/tensorflow/python/framework/dtypes.py:520: FutureWarning: Passing (type, 1) or '1type' as a synonym of type is deprecated; in a future version of numpy, it will be understood as (type, (1,)) / '(1,)type'.\n",
      "  _np_qint32 = np.dtype([(\"qint32\", np.int32, 1)])\n",
      "/home/pranjaldub1999/anaconda3/lib/python3.7/site-packages/tensorflow/python/framework/dtypes.py:525: FutureWarning: Passing (type, 1) or '1type' as a synonym of type is deprecated; in a future version of numpy, it will be understood as (type, (1,)) / '(1,)type'.\n",
      "  np_resource = np.dtype([(\"resource\", np.ubyte, 1)])\n",
      "/home/pranjaldub1999/anaconda3/lib/python3.7/site-packages/tensorboard/compat/tensorflow_stub/dtypes.py:541: FutureWarning: Passing (type, 1) or '1type' as a synonym of type is deprecated; in a future version of numpy, it will be understood as (type, (1,)) / '(1,)type'.\n",
      "  _np_qint8 = np.dtype([(\"qint8\", np.int8, 1)])\n",
      "/home/pranjaldub1999/anaconda3/lib/python3.7/site-packages/tensorboard/compat/tensorflow_stub/dtypes.py:542: FutureWarning: Passing (type, 1) or '1type' as a synonym of type is deprecated; in a future version of numpy, it will be understood as (type, (1,)) / '(1,)type'.\n",
      "  _np_quint8 = np.dtype([(\"quint8\", np.uint8, 1)])\n",
      "/home/pranjaldub1999/anaconda3/lib/python3.7/site-packages/tensorboard/compat/tensorflow_stub/dtypes.py:543: FutureWarning: Passing (type, 1) or '1type' as a synonym of type is deprecated; in a future version of numpy, it will be understood as (type, (1,)) / '(1,)type'.\n",
      "  _np_qint16 = np.dtype([(\"qint16\", np.int16, 1)])\n",
      "/home/pranjaldub1999/anaconda3/lib/python3.7/site-packages/tensorboard/compat/tensorflow_stub/dtypes.py:544: FutureWarning: Passing (type, 1) or '1type' as a synonym of type is deprecated; in a future version of numpy, it will be understood as (type, (1,)) / '(1,)type'.\n",
      "  _np_quint16 = np.dtype([(\"quint16\", np.uint16, 1)])\n",
      "/home/pranjaldub1999/anaconda3/lib/python3.7/site-packages/tensorboard/compat/tensorflow_stub/dtypes.py:545: FutureWarning: Passing (type, 1) or '1type' as a synonym of type is deprecated; in a future version of numpy, it will be understood as (type, (1,)) / '(1,)type'.\n",
      "  _np_qint32 = np.dtype([(\"qint32\", np.int32, 1)])\n",
      "/home/pranjaldub1999/anaconda3/lib/python3.7/site-packages/tensorboard/compat/tensorflow_stub/dtypes.py:550: FutureWarning: Passing (type, 1) or '1type' as a synonym of type is deprecated; in a future version of numpy, it will be understood as (type, (1,)) / '(1,)type'.\n",
      "  np_resource = np.dtype([(\"resource\", np.ubyte, 1)])\n"
     ]
    }
   ],
   "source": [
    "import os,sys,numpy as np,pandas as pd,matplotlib.pyplot as plt\n",
    "from keras.layers import Input,LSTM,Dense,Embedding\n",
    "from keras.preprocessing.text import Tokenizer\n",
    "from keras.preprocessing.sequence import pad_sequences\n",
    "from keras.optimizers import Adam,SGD,RMSprop\n",
    "from keras.utils import to_categorical\n",
    "from keras.models import Model\n",
    "import keras\n",
    "import keras_applications"
   ]
  },
  {
   "cell_type": "code",
   "execution_count": 4,
   "metadata": {},
   "outputs": [],
   "source": [
    "BATCH_SIZE =128\n",
    "EPOCHS = 100\n",
    "LATENT_DIM = 256\n",
    "NUM_SAMPLES = 10000\n",
    "MAX_SEQUENCE_LEN = 100\n",
    "MAX_NUM_WORDS = 20000\n",
    "EMBEDDING_DIM = 100"
   ]
  },
  {
   "cell_type": "code",
   "execution_count": 5,
   "metadata": {},
   "outputs": [],
   "source": [
    "#SENTENCE IN ORIGINAL LANGUAGE\n",
    "input_texts=[]\n",
    "\n",
    "#SENTENCE IN TARGET LANGUAGE\n",
    "target_texts=[]\n",
    "\n",
    "#SENTENCE IN TARGET LANGUAGE OFFSET BY  ONE\n",
    "target_texts_input=[]\n",
    "\n"
   ]
  },
  {
   "cell_type": "code",
   "execution_count": 6,
   "metadata": {},
   "outputs": [
    {
     "name": "stdout",
     "output_type": "stream",
     "text": [
      "He often plays the guitar.\n",
      "वह अक्सर गिटार बजाता है। <eos>\n",
      "<sos> वह अक्सर गिटार बजाता है।\n"
     ]
    }
   ],
   "source": [
    "t=0\n",
    "for line in open('hin.txt'):\n",
    "    if t > NUM_SAMPLES:\n",
    "        break\n",
    "    if '\\t' not in line:\n",
    "        continue\n",
    "    eng , hin , junk = line.split('\\t')\n",
    "    hineos = hin + ' <eos>'\n",
    "    hinsos = '<sos> ' + hin\n",
    "    \n",
    "    input_texts.append(eng)\n",
    "    target_texts_input.append(hinsos)\n",
    "    target_texts.append(hineos)\n",
    "print(input_texts[998])\n",
    "print(target_texts[998])\n",
    "print(target_texts_input[998])\n",
    "assert '<sos>' in target_texts_input[1]"
   ]
  },
  {
   "cell_type": "code",
   "execution_count": 7,
   "metadata": {},
   "outputs": [
    {
     "name": "stdout",
     "output_type": "stream",
     "text": [
      "2375\n",
      "22\n",
      "3117\n",
      "eos found at idx 1\n",
      "sos found at idx 2\n"
     ]
    }
   ],
   "source": [
    "#TOKENIZATION of input\n",
    "tokenizer_inputs = Tokenizer(num_words=MAX_NUM_WORDS)\n",
    "tokenizer_inputs.fit_on_texts(input_texts)\n",
    "input_sequences = tokenizer_inputs.texts_to_sequences(input_texts)\n",
    "word2idx_input = tokenizer_inputs.word_index\n",
    "print(len(word2idx_input))\n",
    "#max length input\n",
    "max_len_input = max(len(s) for s in input_sequences)\n",
    "print(max_len_input)\n",
    "\n",
    "\n",
    "#TOKENIZATION OF OUTPUT (BOTH WITH SOS AND EOS TOKEN)\n",
    "tokenizer_outputs = Tokenizer(num_words=MAX_NUM_WORDS,filters = '')\n",
    "targets_combined = target_texts + target_texts_input\n",
    "tokenizer_outputs.fit_on_texts(targets_combined)\n",
    "target_sequences = tokenizer_outputs.texts_to_sequences(target_texts)\n",
    "target_sequences_inputs = tokenizer_outputs.texts_to_sequences(target_texts_input)\n",
    "word2idx_output = tokenizer_outputs.word_index\n",
    "print(len(word2idx_output))\n",
    "#print(word2idx_output['<sos>']) #######isme sos find nhi kr paa rha############\n",
    "#max length target\n",
    "max_len_output = max(len(s) for s in target_sequences)\n",
    "for k,v in word2idx_output.items():\n",
    "    if k == '<sos>':\n",
    "        print(\"sos found at idx\",v)\n",
    "    if k == '<eos>':\n",
    "        print(\"eos found at idx\",v)\n",
    "    else:\n",
    "        continue"
   ]
  },
  {
   "cell_type": "code",
   "execution_count": 8,
   "metadata": {},
   "outputs": [
    {
     "name": "stdout",
     "output_type": "stream",
     "text": [
      "encoder input shape (2778, 22)\n",
      "encoder_data[0] [   0    0    0    0    0    0    0    0    0    0    0    0    0    0\n",
      "    0    0    0    0    0    0    0 1264]\n",
      "decoder input shape (2778, 26)\n",
      "decoder_data[0] [[   2 1477    0 ...    0    0    0]\n",
      " [   2 1478    0 ...    0    0    0]\n",
      " [   2 1479    0 ...    0    0    0]\n",
      " ...\n",
      " [   2 3109  753 ...    0    0    0]\n",
      " [   2  138   60 ...    0    0    0]\n",
      " [   2  132    7 ...    5   26  153]]\n",
      "decoder target  shape (2778, 26)\n",
      "decoder_target_data[0] [1477    1    0    0    0    0    0    0    0    0    0    0    0    0\n",
      "    0    0    0    0    0    0    0    0    0    0    0    0]\n"
     ]
    }
   ],
   "source": [
    "#PADDING \n",
    "\n",
    "#padding for encoder inputs\n",
    "encoder_inputs_padded = pad_sequences(input_sequences, maxlen=max_len_input)\n",
    "print(\"encoder input shape\",encoder_inputs_padded.shape)\n",
    "print(\"encoder_data[0]\",encoder_inputs_padded[0])\n",
    "\n",
    "#padding for decoder teacher forcing input\n",
    "decoder_inputs_padded = pad_sequences(target_sequences_inputs, maxlen=max_len_output,padding = 'post')\n",
    "print(\"decoder input shape\" , decoder_inputs_padded.shape)\n",
    "print(\"decoder_data[0]\" , decoder_inputs_padded)\n",
    "\n",
    "#padding for decoder target\n",
    "decoder_target_padded = pad_sequences(target_sequences,maxlen=max_len_output , padding = 'post')\n",
    "print(\"decoder target  shape\" , decoder_target_padded.shape)\n",
    "print(\"decoder_target_data[0]\" , decoder_target_padded[0])"
   ]
  },
  {
   "cell_type": "code",
   "execution_count": 9,
   "metadata": {},
   "outputs": [
    {
     "name": "stdout",
     "output_type": "stream",
     "text": [
      "loading vectors broo\n",
      "length of word2vec 400000\n"
     ]
    }
   ],
   "source": [
    "#LOADING PRETRAINED WORD VECTORS\n",
    "print(\"loading vectors broo\")\n",
    "word2vec = {}\n",
    "with open(os.path.join('glove.6B.100d.txt')) as f:\n",
    "    for line in f:\n",
    "        values = line.split()\n",
    "        word = values[0]\n",
    "        vec = np.asarray(values[1:],dtype='float32')\n",
    "        word2vec[word] = vec\n",
    "print(\"length of word2vec\" , len(word2vec))"
   ]
  },
  {
   "cell_type": "code",
   "execution_count": 10,
   "metadata": {},
   "outputs": [
    {
     "name": "stdout",
     "output_type": "stream",
     "text": [
      "filling pretrained matrix...hold on a sec....Done!\n"
     ]
    }
   ],
   "source": [
    "#EMBEDDING MATRIX\n",
    "print(\"filling pretrained matrix...hold on a sec....Done!\")\n",
    "num_words = min(MAX_NUM_WORDS,len(word2idx_input)+1)\n",
    "embedding_matrix = np.zeros((num_words,EMBEDDING_DIM))\n",
    "for word , i in word2idx_input.items():\n",
    "    if i < MAX_NUM_WORDS:\n",
    "        embedding_vector = word2vec.get(word)\n",
    "        if embedding_vector is not None:\n",
    "            embedding_matrix[i] = embedding_vector"
   ]
  },
  {
   "cell_type": "code",
   "execution_count": 11,
   "metadata": {},
   "outputs": [],
   "source": [
    "#EMBEDDING LAYER\n",
    "embedding_layer = Embedding(num_words,EMBEDDING_DIM,weights = [embedding_matrix],input_length=max_len_input,trainable = True)"
   ]
  },
  {
   "cell_type": "code",
   "execution_count": 12,
   "metadata": {},
   "outputs": [],
   "source": [
    "num_words_output = len(word2idx_output)+1"
   ]
  },
  {
   "cell_type": "code",
   "execution_count": 13,
   "metadata": {},
   "outputs": [],
   "source": [
    "#CREATING ONE HOT TARGETS since we cant use sparse_categorical_crossentropy for sequence data\n",
    "decoder_targets_one_hot = np.zeros((len(input_texts),max_len_output,num_words_output),dtype = 'float32')\n",
    "for i , d in enumerate(decoder_target_padded):\n",
    "    for t,word in enumerate(d):\n",
    "        decoder_targets_one_hot[i,t,word] = 1"
   ]
  },
  {
   "cell_type": "code",
   "execution_count": 14,
   "metadata": {},
   "outputs": [
    {
     "name": "stdout",
     "output_type": "stream",
     "text": [
      "Model: \"model_1\"\n",
      "__________________________________________________________________________________________________\n",
      "Layer (type)                    Output Shape         Param #     Connected to                     \n",
      "==================================================================================================\n",
      "input_1 (InputLayer)            (None, 22)           0                                            \n",
      "__________________________________________________________________________________________________\n",
      "input_2 (InputLayer)            (None, 26)           0                                            \n",
      "__________________________________________________________________________________________________\n",
      "embedding_1 (Embedding)         (None, 22, 100)      237600      input_1[0][0]                    \n",
      "__________________________________________________________________________________________________\n",
      "embedding_2 (Embedding)         (None, 26, 100)      311800      input_2[0][0]                    \n",
      "__________________________________________________________________________________________________\n",
      "lstm_1 (LSTM)                   [(None, 256), (None, 365568      embedding_1[0][0]                \n",
      "__________________________________________________________________________________________________\n",
      "lstm_2 (LSTM)                   [(None, 26, 256), (N 365568      embedding_2[0][0]                \n",
      "                                                                 lstm_1[0][1]                     \n",
      "                                                                 lstm_1[0][2]                     \n",
      "__________________________________________________________________________________________________\n",
      "dense_1 (Dense)                 (None, 26, 3118)     801326      lstm_2[0][0]                     \n",
      "==================================================================================================\n",
      "Total params: 2,081,862\n",
      "Trainable params: 2,081,862\n",
      "Non-trainable params: 0\n",
      "__________________________________________________________________________________________________\n"
     ]
    }
   ],
   "source": [
    "#BUILD THE MODEL (TRAINING)\n",
    "\n",
    "#ENCODER MODEL FOR TRAINING\n",
    "encoder_inputs_placeholder = Input(shape = (max_len_input,))\n",
    "x = embedding_layer(encoder_inputs_placeholder)\n",
    "encoder =  LSTM(LATENT_DIM,return_state=True,return_sequences=False,recurrent_dropout=0.5)\n",
    "encoder_outputs , h , c = encoder(x)\n",
    "encoder_states = [h,c]\n",
    "\n",
    "\n",
    "#DECODER MODEL FOR TEACHER FORCING TRAINING\n",
    "decoder_inputs_placeholder = Input(shape = (max_len_output,))\n",
    "#the embedding will not use the pretrained embeddings, so creating the new embedding layer\n",
    "decoder_embedding = Embedding(num_words_output,EMBEDDING_DIM)\n",
    "decoder_inputs_x = decoder_embedding(decoder_inputs_placeholder)\n",
    "decoder_lstm = LSTM(LATENT_DIM,return_sequences=True,return_state=True,recurrent_dropout=0.5)\n",
    "decoder_outputs, _,_= decoder_lstm(decoder_inputs_x,initial_state = encoder_states)\n",
    "decoder_dense = Dense(num_words_output , activation = 'softmax')\n",
    "decoder_outputs = decoder_dense(decoder_outputs)\n",
    "\n",
    "model = Model([encoder_inputs_placeholder,decoder_inputs_placeholder],decoder_outputs)\n",
    "model.compile(optimizer = Adam(lr = 0.001),loss = 'categorical_crossentropy',metrics = ['accuracy'])\n",
    "model.summary()"
   ]
  },
  {
   "cell_type": "code",
   "execution_count": 15,
   "metadata": {},
   "outputs": [
    {
     "name": "stdout",
     "output_type": "stream",
     "text": [
      "WARNING:tensorflow:From /home/pranjaldub1999/anaconda3/lib/python3.7/site-packages/tensorflow/python/ops/math_grad.py:1250: add_dispatch_support.<locals>.wrapper (from tensorflow.python.ops.array_ops) is deprecated and will be removed in a future version.\n",
      "Instructions for updating:\n",
      "Use tf.where in 2.0, which has the same broadcast rule as np.where\n",
      "WARNING:tensorflow:From /home/pranjaldub1999/anaconda3/lib/python3.7/site-packages/keras/backend/tensorflow_backend.py:422: The name tf.global_variables is deprecated. Please use tf.compat.v1.global_variables instead.\n",
      "\n",
      "Train on 2222 samples, validate on 556 samples\n",
      "Epoch 1/100\n",
      "2222/2222 [==============================] - 16s 7ms/step - loss: 5.3720 - accuracy: 0.6875 - val_loss: 3.2774 - val_accuracy: 0.5813\n",
      "Epoch 2/100\n",
      "2222/2222 [==============================] - 16s 7ms/step - loss: 1.8598 - accuracy: 0.7303 - val_loss: 3.1953 - val_accuracy: 0.5813\n",
      "Epoch 3/100\n",
      "2222/2222 [==============================] - 16s 7ms/step - loss: 1.7356 - accuracy: 0.7303 - val_loss: 3.0743 - val_accuracy: 0.5813\n",
      "Epoch 4/100\n",
      "2222/2222 [==============================] - 16s 7ms/step - loss: 1.6832 - accuracy: 0.7361 - val_loss: 3.0750 - val_accuracy: 0.5845\n",
      "Epoch 5/100\n",
      "2222/2222 [==============================] - 16s 7ms/step - loss: 1.6477 - accuracy: 0.7403 - val_loss: 3.0475 - val_accuracy: 0.5854\n",
      "Epoch 6/100\n",
      "2222/2222 [==============================] - 16s 7ms/step - loss: 1.6124 - accuracy: 0.7427 - val_loss: 2.9751 - val_accuracy: 0.5883\n",
      "Epoch 7/100\n",
      "2222/2222 [==============================] - 17s 8ms/step - loss: 1.5732 - accuracy: 0.7481 - val_loss: 2.9408 - val_accuracy: 0.5917\n",
      "Epoch 8/100\n",
      "2222/2222 [==============================] - 18s 8ms/step - loss: 1.5330 - accuracy: 0.7537 - val_loss: 2.8615 - val_accuracy: 0.5972\n",
      "Epoch 9/100\n",
      "2222/2222 [==============================] - 18s 8ms/step - loss: 1.4961 - accuracy: 0.7610 - val_loss: 2.8356 - val_accuracy: 0.6023\n",
      "Epoch 10/100\n",
      "2222/2222 [==============================] - 18s 8ms/step - loss: 1.4657 - accuracy: 0.7674 - val_loss: 2.8203 - val_accuracy: 0.6049\n",
      "Epoch 11/100\n",
      "2222/2222 [==============================] - 18s 8ms/step - loss: 1.4410 - accuracy: 0.7721 - val_loss: 2.8059 - val_accuracy: 0.6074\n",
      "Epoch 12/100\n",
      "2222/2222 [==============================] - 19s 8ms/step - loss: 1.4196 - accuracy: 0.7745 - val_loss: 2.7514 - val_accuracy: 0.6137\n",
      "Epoch 13/100\n",
      "2222/2222 [==============================] - 18s 8ms/step - loss: 1.3996 - accuracy: 0.7779 - val_loss: 2.7779 - val_accuracy: 0.6140\n",
      "Epoch 14/100\n",
      "2222/2222 [==============================] - 18s 8ms/step - loss: 1.3817 - accuracy: 0.7805 - val_loss: 2.7512 - val_accuracy: 0.6171\n",
      "Epoch 15/100\n",
      "2222/2222 [==============================] - 18s 8ms/step - loss: 1.3676 - accuracy: 0.7829 - val_loss: 2.7495 - val_accuracy: 0.6195\n",
      "Epoch 16/100\n",
      "2222/2222 [==============================] - 18s 8ms/step - loss: 1.3532 - accuracy: 0.7844 - val_loss: 2.7497 - val_accuracy: 0.6195\n",
      "Epoch 17/100\n",
      "2222/2222 [==============================] - 18s 8ms/step - loss: 1.3413 - accuracy: 0.7861 - val_loss: 2.7301 - val_accuracy: 0.6221\n",
      "Epoch 18/100\n",
      "2222/2222 [==============================] - 18s 8ms/step - loss: 1.3291 - accuracy: 0.7865 - val_loss: 2.7408 - val_accuracy: 0.6231\n",
      "Epoch 19/100\n",
      "2222/2222 [==============================] - 18s 8ms/step - loss: 1.3173 - accuracy: 0.7876 - val_loss: 2.7256 - val_accuracy: 0.6254\n",
      "Epoch 20/100\n",
      "2222/2222 [==============================] - 18s 8ms/step - loss: 1.3065 - accuracy: 0.7878 - val_loss: 2.7204 - val_accuracy: 0.6256\n",
      "Epoch 21/100\n",
      "2222/2222 [==============================] - 18s 8ms/step - loss: 1.2945 - accuracy: 0.7888 - val_loss: 2.7290 - val_accuracy: 0.6249\n",
      "Epoch 22/100\n",
      "2222/2222 [==============================] - 18s 8ms/step - loss: 1.2830 - accuracy: 0.7889 - val_loss: 2.7106 - val_accuracy: 0.6256\n",
      "Epoch 23/100\n",
      "2222/2222 [==============================] - 18s 8ms/step - loss: 1.2705 - accuracy: 0.7898 - val_loss: 2.7020 - val_accuracy: 0.6271\n",
      "Epoch 24/100\n",
      "2222/2222 [==============================] - 18s 8ms/step - loss: 1.2582 - accuracy: 0.7906 - val_loss: 2.6965 - val_accuracy: 0.6279\n",
      "Epoch 25/100\n",
      "2222/2222 [==============================] - 18s 8ms/step - loss: 1.2455 - accuracy: 0.7920 - val_loss: 2.6968 - val_accuracy: 0.6280\n",
      "Epoch 26/100\n",
      "2222/2222 [==============================] - 18s 8ms/step - loss: 1.2321 - accuracy: 0.7919 - val_loss: 2.6860 - val_accuracy: 0.6292\n",
      "Epoch 27/100\n",
      "2222/2222 [==============================] - 18s 8ms/step - loss: 1.2194 - accuracy: 0.7933 - val_loss: 2.6797 - val_accuracy: 0.6287\n",
      "Epoch 28/100\n",
      "2222/2222 [==============================] - 18s 8ms/step - loss: 1.2075 - accuracy: 0.7939 - val_loss: 2.6904 - val_accuracy: 0.6294\n",
      "Epoch 29/100\n",
      "2222/2222 [==============================] - 18s 8ms/step - loss: 1.1934 - accuracy: 0.7951 - val_loss: 2.6986 - val_accuracy: 0.6300\n",
      "Epoch 30/100\n",
      "2222/2222 [==============================] - 18s 8ms/step - loss: 1.1801 - accuracy: 0.7951 - val_loss: 2.6782 - val_accuracy: 0.6310\n",
      "Epoch 31/100\n",
      "2222/2222 [==============================] - 18s 8ms/step - loss: 1.1667 - accuracy: 0.7955 - val_loss: 2.6860 - val_accuracy: 0.6310\n",
      "Epoch 32/100\n",
      "2222/2222 [==============================] - 18s 8ms/step - loss: 1.1533 - accuracy: 0.7973 - val_loss: 2.6966 - val_accuracy: 0.6316\n",
      "Epoch 33/100\n",
      "2222/2222 [==============================] - 18s 8ms/step - loss: 1.1399 - accuracy: 0.7978 - val_loss: 2.6896 - val_accuracy: 0.6320\n",
      "Epoch 34/100\n",
      "2222/2222 [==============================] - 18s 8ms/step - loss: 1.1255 - accuracy: 0.7984 - val_loss: 2.6845 - val_accuracy: 0.6330\n",
      "Epoch 35/100\n",
      "2222/2222 [==============================] - 18s 8ms/step - loss: 1.1123 - accuracy: 0.8005 - val_loss: 2.6736 - val_accuracy: 0.6333\n",
      "Epoch 36/100\n",
      "2222/2222 [==============================] - 18s 8ms/step - loss: 1.0989 - accuracy: 0.8013 - val_loss: 2.6884 - val_accuracy: 0.6333\n",
      "Epoch 37/100\n",
      "2222/2222 [==============================] - 18s 8ms/step - loss: 1.0841 - accuracy: 0.8030 - val_loss: 2.6767 - val_accuracy: 0.6332\n",
      "Epoch 38/100\n",
      "2222/2222 [==============================] - 20s 9ms/step - loss: 1.0703 - accuracy: 0.8044 - val_loss: 2.6754 - val_accuracy: 0.6343\n",
      "Epoch 39/100\n",
      "2222/2222 [==============================] - 22s 10ms/step - loss: 1.0556 - accuracy: 0.8060 - val_loss: 2.6770 - val_accuracy: 0.6350\n",
      "Epoch 40/100\n",
      "2222/2222 [==============================] - 18s 8ms/step - loss: 1.0402 - accuracy: 0.8078 - val_loss: 2.6721 - val_accuracy: 0.6360\n",
      "Epoch 41/100\n",
      "2222/2222 [==============================] - 18s 8ms/step - loss: 1.0255 - accuracy: 0.8096 - val_loss: 2.6738 - val_accuracy: 0.6360\n",
      "Epoch 42/100\n",
      "2222/2222 [==============================] - 21s 9ms/step - loss: 1.0101 - accuracy: 0.8113 - val_loss: 2.6751 - val_accuracy: 0.6367\n",
      "Epoch 43/100\n",
      "2222/2222 [==============================] - 20s 9ms/step - loss: 0.9956 - accuracy: 0.8135 - val_loss: 2.6721 - val_accuracy: 0.6375\n",
      "Epoch 44/100\n",
      "2222/2222 [==============================] - 23s 10ms/step - loss: 0.9803 - accuracy: 0.8152 - val_loss: 2.6690 - val_accuracy: 0.6381\n",
      "Epoch 45/100\n",
      "2222/2222 [==============================] - 21s 10ms/step - loss: 0.9647 - accuracy: 0.8175 - val_loss: 2.6738 - val_accuracy: 0.6383\n",
      "Epoch 46/100\n",
      "2222/2222 [==============================] - 21s 9ms/step - loss: 0.9503 - accuracy: 0.8195 - val_loss: 2.6637 - val_accuracy: 0.6407\n",
      "Epoch 47/100\n",
      "2222/2222 [==============================] - 21s 9ms/step - loss: 0.9352 - accuracy: 0.8213 - val_loss: 2.6600 - val_accuracy: 0.6404\n",
      "Epoch 48/100\n",
      "2222/2222 [==============================] - 22s 10ms/step - loss: 0.9198 - accuracy: 0.8227 - val_loss: 2.6684 - val_accuracy: 0.6422\n",
      "Epoch 49/100\n",
      "2222/2222 [==============================] - 19s 8ms/step - loss: 0.9045 - accuracy: 0.8246 - val_loss: 2.6659 - val_accuracy: 0.6422\n",
      "Epoch 50/100\n",
      "2222/2222 [==============================] - 18s 8ms/step - loss: 0.8897 - accuracy: 0.8274 - val_loss: 2.6579 - val_accuracy: 0.6428\n",
      "Epoch 51/100\n",
      "2222/2222 [==============================] - 18s 8ms/step - loss: 0.8750 - accuracy: 0.8296 - val_loss: 2.6699 - val_accuracy: 0.6435\n",
      "Epoch 52/100\n"
     ]
    },
    {
     "name": "stdout",
     "output_type": "stream",
     "text": [
      "2222/2222 [==============================] - 18s 8ms/step - loss: 0.8604 - accuracy: 0.8299 - val_loss: 2.6705 - val_accuracy: 0.6432\n",
      "Epoch 53/100\n",
      "2222/2222 [==============================] - 18s 8ms/step - loss: 0.8461 - accuracy: 0.8327 - val_loss: 2.6766 - val_accuracy: 0.6437\n",
      "Epoch 54/100\n",
      "2222/2222 [==============================] - 19s 9ms/step - loss: 0.8305 - accuracy: 0.8343 - val_loss: 2.6620 - val_accuracy: 0.6447\n",
      "Epoch 55/100\n",
      "2222/2222 [==============================] - 20s 9ms/step - loss: 0.8160 - accuracy: 0.8365 - val_loss: 2.6763 - val_accuracy: 0.6450\n",
      "Epoch 56/100\n",
      "2222/2222 [==============================] - 20s 9ms/step - loss: 0.8015 - accuracy: 0.8388 - val_loss: 2.6770 - val_accuracy: 0.6467\n",
      "Epoch 57/100\n",
      "2222/2222 [==============================] - 19s 8ms/step - loss: 0.7871 - accuracy: 0.8414 - val_loss: 2.6745 - val_accuracy: 0.6456\n",
      "Epoch 58/100\n",
      "2222/2222 [==============================] - 19s 9ms/step - loss: 0.7726 - accuracy: 0.8438 - val_loss: 2.6773 - val_accuracy: 0.6461\n",
      "Epoch 59/100\n",
      "2222/2222 [==============================] - 20s 9ms/step - loss: 0.7588 - accuracy: 0.8452 - val_loss: 2.6840 - val_accuracy: 0.6471\n",
      "Epoch 60/100\n",
      "2222/2222 [==============================] - 20s 9ms/step - loss: 0.7445 - accuracy: 0.8471 - val_loss: 2.6820 - val_accuracy: 0.6473\n",
      "Epoch 61/100\n",
      "2222/2222 [==============================] - 20s 9ms/step - loss: 0.7311 - accuracy: 0.8490 - val_loss: 2.6841 - val_accuracy: 0.6467\n",
      "Epoch 62/100\n",
      "2222/2222 [==============================] - 19s 9ms/step - loss: 0.7165 - accuracy: 0.8523 - val_loss: 2.6860 - val_accuracy: 0.6482\n",
      "Epoch 63/100\n",
      "2222/2222 [==============================] - 20s 9ms/step - loss: 0.7022 - accuracy: 0.8542 - val_loss: 2.6876 - val_accuracy: 0.6476\n",
      "Epoch 64/100\n",
      "2222/2222 [==============================] - 19s 9ms/step - loss: 0.6891 - accuracy: 0.8566 - val_loss: 2.6981 - val_accuracy: 0.6478\n",
      "Epoch 65/100\n",
      "2222/2222 [==============================] - 19s 9ms/step - loss: 0.6767 - accuracy: 0.8594 - val_loss: 2.6977 - val_accuracy: 0.6489\n",
      "Epoch 66/100\n",
      "2222/2222 [==============================] - 18s 8ms/step - loss: 0.6624 - accuracy: 0.8624 - val_loss: 2.6961 - val_accuracy: 0.6495\n",
      "Epoch 67/100\n",
      "2222/2222 [==============================] - 20s 9ms/step - loss: 0.6498 - accuracy: 0.8644 - val_loss: 2.6987 - val_accuracy: 0.6490\n",
      "Epoch 68/100\n",
      "2222/2222 [==============================] - 18s 8ms/step - loss: 0.6359 - accuracy: 0.8675 - val_loss: 2.7142 - val_accuracy: 0.6496\n",
      "Epoch 69/100\n",
      "2222/2222 [==============================] - 19s 9ms/step - loss: 0.6232 - accuracy: 0.8705 - val_loss: 2.7127 - val_accuracy: 0.6505\n",
      "Epoch 70/100\n",
      "2222/2222 [==============================] - 18s 8ms/step - loss: 0.6096 - accuracy: 0.8727 - val_loss: 2.7152 - val_accuracy: 0.6500\n",
      "Epoch 71/100\n",
      "2222/2222 [==============================] - 19s 8ms/step - loss: 0.5976 - accuracy: 0.8758 - val_loss: 2.7193 - val_accuracy: 0.6511\n",
      "Epoch 72/100\n",
      "2222/2222 [==============================] - 19s 9ms/step - loss: 0.5847 - accuracy: 0.8784 - val_loss: 2.7246 - val_accuracy: 0.6506\n",
      "Epoch 73/100\n",
      "2222/2222 [==============================] - 18s 8ms/step - loss: 0.5726 - accuracy: 0.8822 - val_loss: 2.7192 - val_accuracy: 0.6525\n",
      "Epoch 74/100\n",
      "2222/2222 [==============================] - 19s 8ms/step - loss: 0.5595 - accuracy: 0.8846 - val_loss: 2.7346 - val_accuracy: 0.6532\n",
      "Epoch 75/100\n",
      "2222/2222 [==============================] - 18s 8ms/step - loss: 0.5472 - accuracy: 0.8874 - val_loss: 2.7339 - val_accuracy: 0.6536\n",
      "Epoch 76/100\n",
      "2222/2222 [==============================] - 18s 8ms/step - loss: 0.5361 - accuracy: 0.8902 - val_loss: 2.7304 - val_accuracy: 0.6532\n",
      "Epoch 77/100\n",
      "2222/2222 [==============================] - 18s 8ms/step - loss: 0.5240 - accuracy: 0.8932 - val_loss: 2.7404 - val_accuracy: 0.6535\n",
      "Epoch 78/100\n",
      "2222/2222 [==============================] - 19s 9ms/step - loss: 0.5130 - accuracy: 0.8949 - val_loss: 2.7497 - val_accuracy: 0.6529\n",
      "Epoch 79/100\n",
      "2222/2222 [==============================] - 19s 8ms/step - loss: 0.5001 - accuracy: 0.8982 - val_loss: 2.7449 - val_accuracy: 0.6548\n",
      "Epoch 80/100\n",
      "2222/2222 [==============================] - 19s 9ms/step - loss: 0.4901 - accuracy: 0.9005 - val_loss: 2.7468 - val_accuracy: 0.6544\n",
      "Epoch 81/100\n",
      "2222/2222 [==============================] - 18s 8ms/step - loss: 0.4786 - accuracy: 0.9038 - val_loss: 2.7497 - val_accuracy: 0.6553\n",
      "Epoch 82/100\n",
      "2222/2222 [==============================] - 19s 8ms/step - loss: 0.4679 - accuracy: 0.9057 - val_loss: 2.7666 - val_accuracy: 0.6541\n",
      "Epoch 83/100\n",
      "2222/2222 [==============================] - 21s 9ms/step - loss: 0.4575 - accuracy: 0.9088 - val_loss: 2.7593 - val_accuracy: 0.6555\n",
      "Epoch 84/100\n",
      "2222/2222 [==============================] - 22s 10ms/step - loss: 0.4473 - accuracy: 0.9115 - val_loss: 2.7616 - val_accuracy: 0.6563\n",
      "Epoch 85/100\n",
      "2222/2222 [==============================] - 25s 11ms/step - loss: 0.4380 - accuracy: 0.9124 - val_loss: 2.7673 - val_accuracy: 0.6563\n",
      "Epoch 86/100\n",
      "2222/2222 [==============================] - 19s 9ms/step - loss: 0.4266 - accuracy: 0.9162 - val_loss: 2.7705 - val_accuracy: 0.6564\n",
      "Epoch 87/100\n",
      "2222/2222 [==============================] - 18s 8ms/step - loss: 0.4170 - accuracy: 0.9181 - val_loss: 2.7712 - val_accuracy: 0.6558\n",
      "Epoch 88/100\n",
      "2222/2222 [==============================] - 18s 8ms/step - loss: 0.4079 - accuracy: 0.9198 - val_loss: 2.7860 - val_accuracy: 0.6554\n",
      "Epoch 89/100\n",
      "2222/2222 [==============================] - 19s 9ms/step - loss: 0.3992 - accuracy: 0.9215 - val_loss: 2.7847 - val_accuracy: 0.6558\n",
      "Epoch 90/100\n",
      "2222/2222 [==============================] - 18s 8ms/step - loss: 0.3889 - accuracy: 0.9250 - val_loss: 2.7885 - val_accuracy: 0.6557\n",
      "Epoch 91/100\n",
      "2222/2222 [==============================] - 18s 8ms/step - loss: 0.3810 - accuracy: 0.9262 - val_loss: 2.7831 - val_accuracy: 0.6563\n",
      "Epoch 92/100\n",
      "2222/2222 [==============================] - 22s 10ms/step - loss: 0.3716 - accuracy: 0.9274 - val_loss: 2.7898 - val_accuracy: 0.6566\n",
      "Epoch 93/100\n",
      "2222/2222 [==============================] - 19s 9ms/step - loss: 0.3631 - accuracy: 0.9298 - val_loss: 2.7996 - val_accuracy: 0.6566\n",
      "Epoch 94/100\n",
      "2222/2222 [==============================] - 19s 9ms/step - loss: 0.3548 - accuracy: 0.9316 - val_loss: 2.7980 - val_accuracy: 0.6565\n",
      "Epoch 95/100\n",
      "2222/2222 [==============================] - 19s 9ms/step - loss: 0.3469 - accuracy: 0.9334 - val_loss: 2.7992 - val_accuracy: 0.6569\n",
      "Epoch 96/100\n",
      "2222/2222 [==============================] - 19s 9ms/step - loss: 0.3388 - accuracy: 0.9350 - val_loss: 2.8074 - val_accuracy: 0.6571\n",
      "Epoch 97/100\n",
      "2222/2222 [==============================] - 21s 9ms/step - loss: 0.3314 - accuracy: 0.9365 - val_loss: 2.8068 - val_accuracy: 0.6576\n",
      "Epoch 98/100\n",
      "2222/2222 [==============================] - 20s 9ms/step - loss: 0.3240 - accuracy: 0.9382 - val_loss: 2.8173 - val_accuracy: 0.6570\n",
      "Epoch 99/100\n",
      "2222/2222 [==============================] - 18s 8ms/step - loss: 0.3161 - accuracy: 0.9410 - val_loss: 2.8196 - val_accuracy: 0.6570\n",
      "Epoch 100/100\n",
      "2222/2222 [==============================] - 18s 8ms/step - loss: 0.3102 - accuracy: 0.9410 - val_loss: 2.8192 - val_accuracy: 0.6579\n"
     ]
    }
   ],
   "source": [
    "r = model.fit([encoder_inputs_padded,decoder_inputs_padded],decoder_targets_one_hot,batch_size=BATCH_SIZE,\n",
    "             epochs=EPOCHS,validation_split=0.2)"
   ]
  },
  {
   "cell_type": "code",
   "execution_count": 16,
   "metadata": {},
   "outputs": [
    {
     "data": {
      "image/png": "[encoded data removed]",
      "text/plain": [
       "<Figure size 432x288 with 1 Axes>"
      ]
     },
     "metadata": {
      "needs_background": "light"
     },
     "output_type": "display_data"
    },
    {
     "data": {
      "image/png": "[encoded data removed]",
      "text/plain": [
       "<Figure size 432x288 with 1 Axes>"
      ]
     },
     "metadata": {
      "needs_background": "light"
     },
     "output_type": "display_data"
    }
   ],
   "source": [
    "plt.plot(r.history['loss'],label = 'training_loss')\n",
    "plt.plot(r.history['val_loss'],label = 'validation_loss')\n",
    "plt.legend()\n",
    "plt.show()\n",
    "\n",
    "plt.plot(r.history['accuracy'],label = 'training_loss')\n",
    "plt.plot(r.history['val_accuracy'],label = 'validation_accuracy')\n",
    "plt.legend()\n",
    "plt.show()"
   ]
  },
  {
   "cell_type": "markdown",
   "metadata": {},
   "source": [
    "NOW WE WILL USE THE PREVIOUSLY TRAINED ENCODER MODEL AND CREATE A DECODER MODEL THAT GENERATES TEXT AFTER TAKING ENCODER INITIAL STATES AND ACCEPTING SEQUENCE LENGTH OF 1"
   ]
  },
  {
   "cell_type": "code",
   "execution_count": 17,
   "metadata": {},
   "outputs": [],
   "source": [
    "#LOADING ENCODER MODEL\n",
    "encoder_model = Model(encoder_inputs_placeholder,encoder_states)\n"
   ]
  },
  {
   "cell_type": "code",
   "execution_count": 18,
   "metadata": {},
   "outputs": [
    {
     "name": "stdout",
     "output_type": "stream",
     "text": [
      "h (?, 256)\n",
      "c (?, 256)\n",
      "decoder_inputs_single Tensor(\"input_5:0\", shape=(?, 1), dtype=float32)\n"
     ]
    }
   ],
   "source": [
    "decoder_states_input_h = Input(shape = (LATENT_DIM,))\n",
    "decoder_states_input_c = Input(shape = (LATENT_DIM,))\n",
    "decoder_states_inputs = [decoder_states_input_h ,decoder_states_input_c]\n",
    "decoder_inputs_single = Input(shape = (1,))\n",
    "decoder_inputs_single_x = decoder_embedding(decoder_inputs_single)\n",
    "decoder_outputs,h,c = decoder_lstm(decoder_inputs_single_x,initial_state=decoder_states_inputs)\n",
    "print(\"h\",h.shape)\n",
    "print(\"c\",c.shape)\n",
    "print(\"decoder_inputs_single\", decoder_inputs_single)\n",
    "decoder_states = [h,c]\n",
    "decoder_outputs = decoder_dense(decoder_outputs)\n",
    "\n",
    "#INITIALIZING THE DECODER MODEL\n",
    "decoder_model = Model([decoder_inputs_single]+decoder_states_inputs,\n",
    "                     [decoder_outputs]+decoder_states)"
   ]
  },
  {
   "cell_type": "code",
   "execution_count": 19,
   "metadata": {},
   "outputs": [],
   "source": [
    "#REVERSE IDX TO WORD MAPPING\n",
    "idx2word_eng = {v:k for k,v in word2idx_input.items()}\n",
    "idx2word_tran = {v:k for k,v in word2idx_output.items()}\n"
   ]
  },
  {
   "cell_type": "code",
   "execution_count": 20,
   "metadata": {},
   "outputs": [
    {
     "ename": "IndentationError",
     "evalue": "unexpected indent (<ipython-input-20-22a775fe06ca>, line 3)",
     "output_type": "error",
     "traceback": [
      "\u001b[0;36m  File \u001b[0;32m\"<ipython-input-20-22a775fe06ca>\"\u001b[0;36m, line \u001b[0;32m3\u001b[0m\n\u001b[0;31m    states_value = encoder_model.predict(input_seq)\u001b[0m\n\u001b[0m    ^\u001b[0m\n\u001b[0;31mIndentationError\u001b[0m\u001b[0;31m:\u001b[0m unexpected indent\n"
     ]
    }
   ],
   "source": [
    "#SAMPLING FUNCTION\n",
    "#def decode_sequence(input_seq):\n",
    "    states_value = encoder_model.predict(input_seq)\n",
    "    #create empty decoder input\n",
    "    target_seq = np.zeros((1,1))\n",
    "    #fill the first pos of decoder input with sos token as we will input sos and encoder states in decoder\n",
    "    target_seq[0,0] = word2idx_output['<sos>']\n",
    "    eos = word2idx_output['<eos>']\n",
    "    #creating the translation\n",
    "    output_sentence = []\n",
    "    for _ in range(max_len_output):\n",
    "        out,h,c = decoder_model.predict([target_seq]+states_value)\n",
    "        #extract word with highest probability\n",
    "        idx = np.argmax(out[0,0,:])\n",
    "        if eos == idx:\n",
    "            break\n",
    "        word = ''\n",
    "        if idx>0:\n",
    "            word = idx2word_tran[idx]\n",
    "            output_sentence.append(word)\n",
    "        #update the decoder input for the next cell\n",
    "        target_seq[0,0] = idx\n",
    "        #update the states too\n",
    "        states_value = [h,c]\n",
    "    return ' '.join(output_sentence)"
   ]
  },
  {
   "cell_type": "code",
   "execution_count": null,
   "metadata": {},
   "outputs": [],
   "source": [
    "#TEST TRANSLATIONS::\n",
    "#while True:\n",
    "    i = np.random.choice(len(input_texts))\n",
    "    input_seq = encoder_inputs_padded[i:i+1]\n",
    "    print(input_seq)\n",
    "    print(\"shape\",input_seq.shape)\n",
    "    translation = decode_sequence(input_seq)\n",
    "    print('_')\n",
    "    print(\"input\",input_texts[i])\n",
    "    print(\"translation\" , translation)\n",
    "    \n",
    "    ans = input(\"continue y/n ?\")\n",
    "    if ans and ans.lower().startswith('n'):\n",
    "        break"
   ]
  },
  {
   "cell_type": "code",
   "execution_count": 32,
   "metadata": {},
   "outputs": [],
   "source": [
    "#SAMPLING FUNCTION #FOR CUSTOM INPUT\n",
    "def decode_sequence(input_seq):\n",
    "    states_value = encoder_model.predict(input_seq)\n",
    "    #create empty decoder input\n",
    "    target_seq = np.zeros((1,1))\n",
    "    #fill the first pos of decoder input with sos token as we will input sos and encoder states in decoder\n",
    "    target_seq[0,0] = word2idx_output['<sos>']\n",
    "    eos = word2idx_output['<eos>']\n",
    "    #creating the translation\n",
    "    output_sentence = []\n",
    "    for _ in range(max_len_output):\n",
    "        out,h,c = decoder_model.predict([target_seq]+states_value)\n",
    "        #extract word with highest probability\n",
    "        idx = np.argmax(out[0,0,:])\n",
    "        if eos == idx:\n",
    "            break\n",
    "        word = ''\n",
    "        if idx>0:\n",
    "            word = idx2word_tran[idx]\n",
    "            output_sentence.append(word)\n",
    "        #update the decoder input for the next cell\n",
    "        target_seq[0,0] = idx\n",
    "        #update the states too\n",
    "        states_value = [h,c]\n",
    "    return ' '.join(output_sentence)"
   ]
  },
  {
   "cell_type": "code",
   "execution_count": null,
   "metadata": {},
   "outputs": [
    {
     "name": "stdout",
     "output_type": "stream",
     "text": [
      "he is doing his job.\n",
      "shape of padded custom input [[   0    0    0    0    0    0    0    0    0    0    0    0    0    0\n",
      "     0    0    0    0    0    0    0    0]\n",
      " [   0    0    0    0    0    0    0    0    0    0    0    0    0    0\n",
      "     0    0    0    0    0    0    0    0]\n",
      " [   0    0    0    0    0    0    0    0    0    0    0    0    0    0\n",
      "     0    0    0    0    0    0    0    0]\n",
      " [   0    0    0    0    0    0    0    0    0    0    0    0    0    0\n",
      "     0    0    0    0    0    0    0    2]\n",
      " [   0    0    0    0    0    0    0    0    0    0    0    0    0    0\n",
      "     0    0    0    0    0    0    0 2184]\n",
      " [   0    0    0    0    0    0    0    0    0    0    0    0    0    0\n",
      "     0    0    0    0    0    0    0    0]\n",
      " [   0    0    0    0    0    0    0    0    0    0    0    0    0    0\n",
      "     0    0    0    0    0    0    0    0]\n",
      " [   0    0    0    0    0    0    0    0    0    0    0    0    0    0\n",
      "     0    0    0    0    0    0    0    0]\n",
      " [   0    0    0    0    0    0    0    0    0    0    0    0    0    0\n",
      "     0    0    0    0    0    0    0    2]\n",
      " [   0    0    0    0    0    0    0    0    0    0    0    0    0    0\n",
      "     0    0    0    0    0    0    0    0]\n",
      " [   0    0    0    0    0    0    0    0    0    0    0    0    0    0\n",
      "     0    0    0    0    0    0    0    0]\n",
      " [   0    0    0    0    0    0    0    0    0    0    0    0    0    0\n",
      "     0    0    0    0    0    0    0    0]\n",
      " [   0    0    0    0    0    0    0    0    0    0    0    0    0    0\n",
      "     0    0    0    0    0    0    0    0]\n",
      " [   0    0    0    0    0    0    0    0    0    0    0    0    0    0\n",
      "     0    0    0    0    0    0    0    2]\n",
      " [   0    0    0    0    0    0    0    0    0    0    0    0    0    0\n",
      "     0    0    0    0    0    0    0 2184]\n",
      " [   0    0    0    0    0    0    0    0    0    0    0    0    0    0\n",
      "     0    0    0    0    0    0    0    0]\n",
      " [   0    0    0    0    0    0    0    0    0    0    0    0    0    0\n",
      "     0    0    0    0    0    0    0    0]\n",
      " [   0    0    0    0    0    0    0    0    0    0    0    0    0    0\n",
      "     0    0    0    0    0    0    0    0]\n",
      " [   0    0    0    0    0    0    0    0    0    0    0    0    0    0\n",
      "     0    0    0    0    0    0    0 1469]\n",
      " [   0    0    0    0    0    0    0    0    0    0    0    0    0    0\n",
      "     0    0    0    0    0    0    0    0]]\n",
      "_\n",
      "input he is doing his job.\n",
      "translation मूँह हाफ़िज़।\n",
      "continue y/n ?y\n",
      "he is walking.\n",
      "shape of padded custom input [[   0    0    0    0    0    0    0    0    0    0    0    0    0    0\n",
      "     0    0    0    0    0    0    0    0]\n",
      " [   0    0    0    0    0    0    0    0    0    0    0    0    0    0\n",
      "     0    0    0    0    0    0    0    0]\n",
      " [   0    0    0    0    0    0    0    0    0    0    0    0    0    0\n",
      "     0    0    0    0    0    0    0    0]\n",
      " [   0    0    0    0    0    0    0    0    0    0    0    0    0    0\n",
      "     0    0    0    0    0    0    0    2]\n",
      " [   0    0    0    0    0    0    0    0    0    0    0    0    0    0\n",
      "     0    0    0    0    0    0    0 2184]\n",
      " [   0    0    0    0    0    0    0    0    0    0    0    0    0    0\n",
      "     0    0    0    0    0    0    0    0]\n",
      " [   0    0    0    0    0    0    0    0    0    0    0    0    0    0\n",
      "     0    0    0    0    0    0    0    0]\n",
      " [   0    0    0    0    0    0    0    0    0    0    0    0    0    0\n",
      "     0    0    0    0    0    0    0    6]\n",
      " [   0    0    0    0    0    0    0    0    0    0    0    0    0    0\n",
      "     0    0    0    0    0    0    0    0]\n",
      " [   0    0    0    0    0    0    0    0    0    0    0    0    0    0\n",
      "     0    0    0    0    0    0    0    0]\n",
      " [   0    0    0    0    0    0    0    0    0    0    0    0    0    0\n",
      "     0    0    0    0    0    0    0    2]\n",
      " [   0    0    0    0    0    0    0    0    0    0    0    0    0    0\n",
      "     0    0    0    0    0    0    0    0]\n",
      " [   0    0    0    0    0    0    0    0    0    0    0    0    0    0\n",
      "     0    0    0    0    0    0    0    0]\n",
      " [   0    0    0    0    0    0    0    0    0    0    0    0    0    0\n",
      "     0    0    0    0    0    0    0    0]]\n",
      "_\n",
      "input he is walking.\n",
      "translation मूँह हाफ़िज़।\n"
     ]
    }
   ],
   "source": [
    "#FOR CUSTOM INPUT   ######NOT WORKING######\n",
    "while True:\n",
    "    i = input()\n",
    "    tokenizer_inputs_custom =tokenizer_inputs.texts_to_sequences(i)\n",
    "    decoder_inputs_padded_custom = pad_sequences(tokenizer_inputs_custom, maxlen=max_len_input)\n",
    "    #print(input_sequences_custom)\n",
    "    #print(\"shape of tokens\",tokenizer_inputs_custom.shape)\n",
    "    print(\"shape of padded custom input\",decoder_inputs_padded_custom)\n",
    "    translation = decode_sequence(decoder_inputs_padded_custom)\n",
    "    print('_')\n",
    "    print(\"input\",i)\n",
    "    print(\"translation\" , translation)\n",
    "    \n",
    "    ans = input(\"continue y/n ?\")\n",
    "    if ans and ans.lower().startswith('n'):\n",
    "        break"
   ]
  },
  {
   "cell_type": "code",
   "execution_count": null,
   "metadata": {},
   "outputs": [],
   "source": []
  }
 ],
 "metadata": {
  "kernelspec": {
   "display_name": "Python 3",
   "language": "python",
   "name": "python3"
  },
  "language_info": {
   "codemirror_mode": {
    "name": "ipython",
    "version": 3
   },
   "file_extension": ".py",
   "mimetype": "text/x-python",
   "name": "python",
   "nbconvert_exporter": "python",
   "pygments_lexer": "ipython3",
   "version": "3.7.3"
  }
 },
 "nbformat": 4,
 "nbformat_minor": 4
}
